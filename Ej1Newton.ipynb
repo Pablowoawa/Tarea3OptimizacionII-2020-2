{
 "cells": [
  {
   "cell_type": "code",
   "execution_count": 1,
   "metadata": {},
   "outputs": [
    {
     "name": "stdout",
     "output_type": "stream",
     "text": [
      "0 10.0 10.0 1654.00000000000 49.0 209.0\n",
      "1 -2.25 -3.0625 -11.1562500000000 0.0 0.0\n",
      "2 -2.25 -3.0625 -11.1562500000000 0.0 0.0\n"
     ]
    }
   ],
   "source": [
    "#Comenzando en el punto (10,10)\n",
    "\n",
    "import sympy as sym\n",
    "import numpy as np\n",
    "\n",
    "# código para tres dimensiones\n",
    "n = 2\n",
    "iterMax = 200\n",
    "x=np.zeros((2,  iterMax + 1))\n",
    "# punto inicial\n",
    "x[0][0] = 10\n",
    "x[1][0] = 10\n",
    "\n",
    "alfa = np.zeros(iterMax + 1)\n",
    "grad = np.zeros((n, iterMax + 1))\n",
    "p = np.zeros(iterMax + 1)\n",
    "\n",
    "i=0\n",
    "x1 = sym.Symbol('x1')\n",
    "x2 = sym.Symbol('x2')\n",
    "f1 = 2*(x1+1)**2 + 8*(x2+3)**2 +5*x1 + x2\n",
    "dfx1 = sym.diff(f1,x1)\n",
    "dfx2 = sym.diff(f1,x2)\n",
    "\n",
    "epsilon = 0.1\n",
    "while True:\n",
    "\n",
    "    sol=f1.subs([(x1, x[0][i]), (x2, x[1][i])])\n",
    "\n",
    "    grad[0][i] = dfx1.subs([(x1, x[0][i]), (x2, x[1][i])])\n",
    "    grad[1][i] = dfx2.subs([(x1, x[0][i]), (x2, x[1][i])])\n",
    "\n",
    "    # calcular la hessiana\n",
    "    T = sym.hessian(f1, (x1, x2))\n",
    "    T = T.subs([(x1, x[0][i]), (x2,x [1][i])])\n",
    "    T1 = np.matrix(T, dtype='float')\n",
    "    T = np.linalg.inv(T1)\n",
    "\n",
    "    # imprimir\n",
    "    print(i, x[0][i], x[1][i], sol, grad[0][i], grad[1][i])\n",
    "\n",
    "    # condiones para terminar\n",
    "    if abs(x[0][i] - x[0][i - 1]) <= epsilon and abs(x[1][i] - x[1][i - 1]) <= epsilon:\n",
    "        break\n",
    "\n",
    "    x[0][i + 1] = x[0][i] - np.dot(T[0,:], grad[:,i])\n",
    "    x[1][i + 1] = x[1][i] - np.dot(T[1,:], grad[:,i])\n",
    "\n",
    "    i += 1\n"
   ]
  },
  {
   "cell_type": "code",
   "execution_count": null,
   "metadata": {},
   "outputs": [],
   "source": []
  }
 ],
 "metadata": {
  "kernelspec": {
   "display_name": "Python 3",
   "language": "python",
   "name": "python3"
  },
  "language_info": {
   "codemirror_mode": {
    "name": "ipython",
    "version": 3
   },
   "file_extension": ".py",
   "mimetype": "text/x-python",
   "name": "python",
   "nbconvert_exporter": "python",
   "pygments_lexer": "ipython3",
   "version": "3.7.1"
  }
 },
 "nbformat": 4,
 "nbformat_minor": 2
}
