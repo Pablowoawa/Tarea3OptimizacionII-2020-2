{
 "cells": [
  {
   "cell_type": "code",
   "execution_count": 1,
   "metadata": {},
   "outputs": [
    {
     "name": "stdout",
     "output_type": "stream",
     "text": [
      "0 2.0 2.0 2697.42135737216 2697.1764445156573 8091.79726677932\n",
      "1 2.2975740886340645 1.5674806188044386 992.463162291525 992.2812857032073 2976.6265535990287\n",
      "2 1.7330428849331838 1.4223482502366096 365.301176340279 364.98132396099834 1094.9930069100922\n",
      "3 1.448544937686961 1.1839413494453765 134.662337329885 134.23722326458494 402.68669838607826\n",
      "4 1.098610349555429 0.9676088654985193 49.9240411736370 49.32081505855744 147.97364837702665\n",
      "5 0.7721678316299858 0.7444374717062914 18.9019575898117 18.065868956717917 54.192365676690265\n",
      "6 0.4420606605373685 0.5262112130633811 7.69762219087987 6.534524905947879 19.605954774598057\n",
      "7 0.12798554579304922 0.3162294304662485 3.84998339848824 2.257711863961381 6.772108401907536\n",
      "8 -0.14207056100241555 0.13637402003079324 2.74620674024385 0.6602706021901162 1.9811747432173146\n",
      "9 -0.30439738530044813 0.02811119065908224 2.56629260049186 0.11272147418251399 0.33809509140217164\n",
      "10 -0.34477569020730525 0.0011988535355032942 2.55927912409289 0.004609599348368687 0.013831712134480645\n",
      "11 -0.34657035454812796 2.156699542442105e-06 2.55926669669840 8.28112753370469e-06 2.4838142280936282e-05\n"
     ]
    }
   ],
   "source": [
    "#NEWTOOON\n",
    "\n",
    "#Comenzando en el punto (10,10)\n",
    "\n",
    "import sympy as sym\n",
    "import numpy as np\n",
    "import math\n",
    "\n",
    "# código para tres dimensiones\n",
    "n = 2\n",
    "iterMax = 200\n",
    "x=np.zeros((2,  iterMax + 1))\n",
    "# punto inicial\n",
    "x[0][0] = 2\n",
    "x[1][0] = 2\n",
    "\n",
    "alfa = np.zeros(iterMax + 1)\n",
    "grad = np.zeros((n, iterMax + 1))\n",
    "p = np.zeros(iterMax + 1)\n",
    "\n",
    "i=0\n",
    "x1 = sym.Symbol('x1')\n",
    "x2 = sym.Symbol('x2')\n",
    "f1 = math.e**(x1+ 3*x2 - 0.1)+math.e**(x1 - 3*x2 - 0.1)+math.e**(- x1 - 0.1)\n",
    "dfx1 = sym.diff(f1,x1)\n",
    "dfx2 = sym.diff(f1,x2)\n",
    "\n",
    "epsilon = 0.00000001\n",
    "while True:\n",
    "\n",
    "    sol=f1.subs([(x1, x[0][i]), (x2, x[1][i])])\n",
    "\n",
    "    grad[0][i] = dfx1.subs([(x1, x[0][i]), (x2, x[1][i])])\n",
    "    grad[1][i] = dfx2.subs([(x1, x[0][i]), (x2, x[1][i])])\n",
    "\n",
    "    # calcular la hessiana\n",
    "    T = sym.hessian(f1, (x1, x2))\n",
    "    T = T.subs([(x1, x[0][i]), (x2,x [1][i])])\n",
    "    T1 = np.matrix(T, dtype='float')\n",
    "    T = np.linalg.inv(T1)\n",
    "\n",
    "    # imprimir\n",
    "    print(i, x[0][i], x[1][i], sol, grad[0][i], grad[1][i])\n",
    "\n",
    "    # condiones para terminar\n",
    "    if abs(x[0][i] - x[0][i - 1]) <= epsilon and abs(x[1][i] - x[1][i - 1]) <= epsilon:\n",
    "        break\n",
    "\n",
    "    x[0][i + 1] = x[0][i] - np.dot(T[0,:], grad[:,i])\n",
    "    x[1][i + 1] = x[1][i] - np.dot(T[1,:], grad[:,i])\n",
    "\n",
    "    i += 1\n"
   ]
  },
  {
   "cell_type": "code",
   "execution_count": null,
   "metadata": {},
   "outputs": [],
   "source": []
  }
 ],
 "metadata": {
  "kernelspec": {
   "display_name": "Python 3",
   "language": "python",
   "name": "python3"
  },
  "language_info": {
   "codemirror_mode": {
    "name": "ipython",
    "version": 3
   },
   "file_extension": ".py",
   "mimetype": "text/x-python",
   "name": "python",
   "nbconvert_exporter": "python",
   "pygments_lexer": "ipython3",
   "version": "3.7.1"
  }
 },
 "nbformat": 4,
 "nbformat_minor": 2
}
