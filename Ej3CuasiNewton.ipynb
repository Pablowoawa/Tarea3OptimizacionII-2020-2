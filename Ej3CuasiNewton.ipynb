{
 "cells": [
  {
   "cell_type": "code",
   "execution_count": 21,
   "metadata": {},
   "outputs": [],
   "source": [
    "import numpy as np\n",
    "from sympy import symbols\n",
    "import sympy as sym\n",
    "import math"
   ]
  },
  {
   "cell_type": "code",
   "execution_count": 22,
   "metadata": {},
   "outputs": [],
   "source": [
    "x1 = symbols(\"x1\")\n",
    "x2 = symbols(\"x2\")"
   ]
  },
  {
   "cell_type": "code",
   "execution_count": 23,
   "metadata": {},
   "outputs": [],
   "source": [
    "def jacobian(f,x):\n",
    "    dfx1 = sym.diff(f, x1)\n",
    "    dfx2 = sym.diff(f, x2)\n",
    "    gradient = np.array([dfx1.subs([(x1, x[0]), (x2, x[1])]),dfx2.subs([(x1, x[0]), (x2, x[1])])],dtype=float)\n",
    "    return gradient"
   ]
  },
  {
   "cell_type": "code",
   "execution_count": 39,
   "metadata": {},
   "outputs": [],
   "source": [
    "def dfp_newton(f, x, iters):\n",
    "    \"\"\"\n",
    "    实现DFP拟牛顿算法\n",
    "    :param f: 原函数\n",
    "    :param x: 初始值\n",
    "    :param iters: 遍历的最大epoch\n",
    "    :return: 最终更新完毕的x值\n",
    "    \"\"\"\n",
    "    # 步长\n",
    "    learning_rate = 1\n",
    "    # 初始化B正定矩阵\n",
    "    G = np.eye(2)\n",
    "    x_len = x.shape[0]\n",
    "    # 一阶导g的第二范式的最小值（阈值）\n",
    "    epsilon = 0.01\n",
    "    for i in range(1, iters):\n",
    "        g = jacobian(f, x)\n",
    "        if np.linalg.norm(g) < epsilon:\n",
    "            break\n",
    "        p = np.dot(G, g)\n",
    "        # 更新x值\n",
    "        x_new = x - p * learning_rate\n",
    "        print(\"第\" + str(i) + \"次迭代后的结果为:\", x_new, f.subs([(x1, x_new[0]), (x2, x_new[1])]))\n",
    "        g_new = jacobian(f, x_new)\n",
    "        y = g_new - g\n",
    "        k = x_new - x\n",
    "        Gy = np.dot(G, y)\n",
    "        y_t_G = np.dot(y, G)\n",
    "        yGy = np.dot(np.dot(y, G), y)\n",
    "        # 更新G正定矩阵\n",
    "        G = G + k.reshape([x_len, 1]) * k / np.dot(k, y) - Gy.reshape([x_len, 1]) * y_t_G / yGy\n",
    "        x = x_new\n",
    "    return x"
   ]
  },
  {
   "cell_type": "code",
   "execution_count": 40,
   "metadata": {},
   "outputs": [],
   "source": [
    "#funcion\n",
    "f = math.e**(x1+ 3*x2 - 0.1)+ math.e**(x1 - 3*x2 - 0.1)+ math.e**(- x1 - 0.1)\n",
    "#punto inicial (a,b)\n",
    "a = -1\n",
    "b = 0\n",
    "x = np.array([a,b],dtype=float)\n",
    "iters = 100"
   ]
  },
  {
   "cell_type": "code",
   "execution_count": 41,
   "metadata": {},
   "outputs": [
    {
     "name": "stdout",
     "output_type": "stream",
     "text": [
      "第1次迭代后的结果为: [0.79386094 0.        ] 4.41192936281158\n",
      "第2次迭代后的结果为: [-0.40271903  0.        ] 2.56330155751818\n",
      "第3次迭代后的结果为: [-0.356692  0.      ] 2.55939770942540\n",
      "第4次迭代后的结果为: [-0.34657986  0.        ] 2.55926669670854\n",
      "[-0.34657986  0.        ]\n"
     ]
    }
   ],
   "source": [
    "print(dfp_newton(f, x, iters))"
   ]
  },
  {
   "cell_type": "code",
   "execution_count": null,
   "metadata": {},
   "outputs": [],
   "source": []
  }
 ],
 "metadata": {
  "kernelspec": {
   "display_name": "Python 3",
   "language": "python",
   "name": "python3"
  },
  "language_info": {
   "codemirror_mode": {
    "name": "ipython",
    "version": 3
   },
   "file_extension": ".py",
   "mimetype": "text/x-python",
   "name": "python",
   "nbconvert_exporter": "python",
   "pygments_lexer": "ipython3",
   "version": "3.7.1"
  }
 },
 "nbformat": 4,
 "nbformat_minor": 2
}
