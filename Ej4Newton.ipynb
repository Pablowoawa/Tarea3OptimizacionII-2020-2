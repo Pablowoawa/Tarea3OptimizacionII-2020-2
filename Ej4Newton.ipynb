{
 "cells": [
  {
   "cell_type": "code",
   "execution_count": 2,
   "metadata": {},
   "outputs": [
    {
     "name": "stdout",
     "output_type": "stream",
     "text": [
      "0 3.0 3.0 252.000000000000 156.0 120.0\n",
      "1 1.7388193202146691 1.9320214669051878 54.6906366921871 49.236743003634736 36.188361391549705\n",
      "2 0.7887520431781859 1.1992493556916715 10.1403901586326 15.403851873990014 10.875039776322982\n",
      "3 0.117260528467654 0.7042932542164482 1.00368462730051 3.056683250837726 3.0405070457613554\n",
      "4 -0.05050414235188566 0.36414494162125144 0.131264235258563 0.020716613037310205 0.8204263165347687\n",
      "5 -0.016734864883635014 0.11688488745234121 0.0118970920133745 -0.0005370802435843147 0.20668760642759387\n",
      "6 -0.0009744844770009156 0.006804282021239602 3.96864038123912e-5 -3.422233709339528e-05 0.011660855193981827\n",
      "7 -2.1056624012309472e-07 1.470263320828627e-06 1.85286558402018e-12 -7.400720066109431e-09 2.5193941614237776e-06\n",
      "8 -2.125073315763031e-18 1.483811141176402e-17 1.88716957214581e-34 -7.48035971543954e-20 2.5426076192001977e-17\n"
     ]
    }
   ],
   "source": [
    "\n",
    "\n",
    "import sympy as sym\n",
    "import numpy as np\n",
    "\n",
    "# código para tres dimensiones\n",
    "n = 2\n",
    "iterMax = 100\n",
    "x=np.zeros((2,  iterMax + 1))\n",
    "# punto inicial\n",
    "x[0][0] = 3\n",
    "x[1][0] = 3\n",
    "\n",
    "alfa = np.zeros(iterMax + 1)\n",
    "grad = np.zeros((n, iterMax + 1))\n",
    "p = np.zeros(iterMax + 1)\n",
    "\n",
    "i=0\n",
    "x1 = sym.Symbol('x1')\n",
    "x2 = sym.Symbol('x2')\n",
    "f1 = 7*x1**2 + 2*x1*x2 + x2**2 + x1**4 + x2**4\n",
    "dfx1 = sym.diff(f1,x1)\n",
    "dfx2 = sym.diff(f1,x2)\n",
    "\n",
    "epsilon = 1e-5\n",
    "while True:\n",
    "\n",
    "    sol=f1.subs([(x1, x[0][i]), (x2, x[1][i])])\n",
    "\n",
    "    grad[0][i] = dfx1.subs([(x1, x[0][i]), (x2, x[1][i])])\n",
    "    grad[1][i] = dfx2.subs([(x1, x[0][i]), (x2, x[1][i])])\n",
    "\n",
    "    # calcular la hessiana\n",
    "    T = sym.hessian(f1, (x1, x2))\n",
    "    T = T.subs([(x1, x[0][i]), (x2,x [1][i])])\n",
    "    T1 = np.matrix(T, dtype='float')\n",
    "    T = np.linalg.inv(T1)\n",
    "\n",
    "    # imprimir\n",
    "    print(i, x[0][i], x[1][i], sol, grad[0][i], grad[1][i])\n",
    "\n",
    "    # condiones para terminar\n",
    "    if i == iterMax or abs(x[0][i] - x[0][i - 1]) <= epsilon and abs(x[1][i] - x[1][i - 1]) <= epsilon:\n",
    "        break\n",
    "\n",
    "    x[0][i + 1] = x[0][i] - np.dot(T[0,:], grad[:,i])\n",
    "    x[1][i + 1] = x[1][i] - np.dot(T[1,:], grad[:,i])\n",
    "\n",
    "    i += 1\n"
   ]
  },
  {
   "cell_type": "code",
   "execution_count": null,
   "metadata": {},
   "outputs": [],
   "source": []
  }
 ],
 "metadata": {
  "kernelspec": {
   "display_name": "Python 3",
   "language": "python",
   "name": "python3"
  },
  "language_info": {
   "codemirror_mode": {
    "name": "ipython",
    "version": 3
   },
   "file_extension": ".py",
   "mimetype": "text/x-python",
   "name": "python",
   "nbconvert_exporter": "python",
   "pygments_lexer": "ipython3",
   "version": "3.7.1"
  }
 },
 "nbformat": 4,
 "nbformat_minor": 2
}
